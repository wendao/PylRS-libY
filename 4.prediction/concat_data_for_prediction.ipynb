{
 "cells": [
  {
   "cell_type": "code",
   "execution_count": 1,
   "id": "16386ab7",
   "metadata": {},
   "outputs": [],
   "source": [
    "import pandas as pd\n",
    "import numpy as np\n",
    "import matplotlib.pyplot as plt\n",
    "from collections import defaultdict\n",
    "from pandas import DataFrame"
   ]
  },
  {
   "cell_type": "code",
   "execution_count": 2,
   "id": "9c615068",
   "metadata": {},
   "outputs": [],
   "source": [
    "#load energy data\n",
    "all_data = pd.DataFrame()\n",
    "for i in [\"Z-R\", \"Z-S\"]: #[\"S-ax\", \"S-eq\"]:\n",
    "    #print(i)\n",
    "    df = pd.read_csv(\"ssm_U\"+i+\"_ddg_terms.txt\", sep=\"\\t\", header=None)\n",
    "    #delete all zero col\n",
    "    df = df.loc[:,~(df==0).all(axis=0)]\n",
    "    \n",
    "    df['UAA'] = i\n",
    "    df['label'] = False #for prediction, set to False\n",
    "    all_data = pd.concat([all_data, df], axis=0, ignore_index=True)\n",
    "all_data = all_data.rename(columns={0: \"id\"})"
   ]
  },
  {
   "cell_type": "code",
   "execution_count": 3,
   "id": "6c4f8a05",
   "metadata": {},
   "outputs": [],
   "source": [
    "#load ESM-1v, ESM-1b\n",
    "df1v = pd.read_csv(\"../2.evotuning/mm_SSM_1v_labeled.csv\")\n",
    "df1b = pd.read_csv(\"../2.evotuning/mm_SSM_1b_labeled.csv\")"
   ]
  },
  {
   "cell_type": "code",
   "execution_count": 4,
   "id": "468fcd1c",
   "metadata": {},
   "outputs": [],
   "source": [
    "all_data = pd.merge(all_data, df1v.loc[:, ['id','esm1v_t33_650M_UR90S_1']], how='left', on='id')\n",
    "all_data = pd.merge(all_data, df1v.loc[:, ['id','esm1v_t33_650M_UR90S_2']], how='left', on='id')\n",
    "all_data = pd.merge(all_data, df1v.loc[:, ['id','esm1v_t33_650M_UR90S_3']], how='left', on='id')\n",
    "all_data = pd.merge(all_data, df1v.loc[:, ['id','esm1v_t33_650M_UR90S_4']], how='left', on='id')\n",
    "all_data = pd.merge(all_data, df1v.loc[:, ['id','esm1v_t33_650M_UR90S_5']], how='left', on='id')\n",
    "all_data = pd.merge(all_data, df1b.loc[:, ['id','esm_msa1b_t12_100M_UR50S']], how='left', on='id')"
   ]
  },
  {
   "cell_type": "code",
   "execution_count": 5,
   "id": "1a8fa894",
   "metadata": {},
   "outputs": [],
   "source": [
    "raw_data = all_data.copy()"
   ]
  },
  {
   "cell_type": "code",
   "execution_count": 6,
   "id": "e058024b",
   "metadata": {},
   "outputs": [],
   "source": [
    "#extract X\n",
    "col = raw_data.columns.values.tolist()\n",
    "col.remove('UAA')\n",
    "col.remove('label')\n",
    "col.remove('id')"
   ]
  },
  {
   "cell_type": "code",
   "execution_count": 7,
   "id": "3c7c227e",
   "metadata": {},
   "outputs": [
    {
     "name": "stdout",
     "output_type": "stream",
     "text": [
      "(342, 24) 0\n"
     ]
    }
   ],
   "source": [
    "X = np.array(raw_data[col])\n",
    "y = np.array(raw_data['label'])\n",
    "print(X.shape, np.sum(y))"
   ]
  },
  {
   "cell_type": "code",
   "execution_count": 8,
   "id": "7b2b671b",
   "metadata": {},
   "outputs": [],
   "source": [
    "import pickle\n",
    "import os\n",
    "os.environ[\"CUDA_DEVICE_ORDER\"]=\"PCI_BUS_ID\"   # see issue #152\n",
    "os.environ[\"CUDA_VISIBLE_DEVICES\"]=\"0\""
   ]
  },
  {
   "cell_type": "code",
   "execution_count": 9,
   "id": "371e8402",
   "metadata": {},
   "outputs": [],
   "source": [
    "#load eUnirep 256 embedding\n",
    "evo_tag = \"256\"\n",
    "evo_num = int(evo_tag)\n",
    "from jax_unirep.evotuning_models import mlstm256\n",
    "from jax_unirep.utils import load_params\n",
    "from jax_unirep import get_reps"
   ]
  },
  {
   "cell_type": "code",
   "execution_count": 10,
   "id": "bb4fe91b",
   "metadata": {},
   "outputs": [],
   "source": [
    "i2s = {}\n",
    "lines = open(\"map_label_fname_ssm.txt\", 'r')\n",
    "for l in lines:\n",
    "    es = l.strip().split()\n",
    "    i2s[es[0]] = es[2]"
   ]
  },
  {
   "cell_type": "code",
   "execution_count": 11,
   "id": "c83751d7",
   "metadata": {},
   "outputs": [],
   "source": [
    "sequences = [i2s[t] for t in i2s.keys()]\n",
    "s2t = {i2s[t]:t for t in i2s.keys()}"
   ]
  },
  {
   "cell_type": "code",
   "execution_count": 12,
   "id": "951dda4a",
   "metadata": {},
   "outputs": [],
   "source": [
    "params = load_params(folderpath='../2.evotuning/unirep/weights/'+evo_tag+'/', paper_weights=evo_num)[1]\n",
    "h_avg, h_final, c_final= get_reps(sequences, params=params,mlstm_size=evo_num)"
   ]
  },
  {
   "cell_type": "code",
   "execution_count": 13,
   "id": "e1c913ea",
   "metadata": {},
   "outputs": [],
   "source": [
    "df_evo = pd.DataFrame()\n",
    "for i, t in enumerate(i2s.keys()):\n",
    "    d = pd.Series([s2t[sequences[i]]]+[x for x in h_avg[i]])\n",
    "    assert(t == s2t[sequences[i]])\n",
    "    df_evo = pd.concat([df_evo, d.to_frame().T], axis=0, ignore_index=True)"
   ]
  },
  {
   "cell_type": "code",
   "execution_count": 14,
   "id": "b677681c",
   "metadata": {},
   "outputs": [],
   "source": [
    "convert = {i:\"e\"+str(i) for i in range(1+evo_num)}\n",
    "convert[0] = \"id\"\n",
    "df_evo = df_evo.rename(columns=convert)"
   ]
  },
  {
   "cell_type": "code",
   "execution_count": 15,
   "id": "3a9cec82",
   "metadata": {},
   "outputs": [],
   "source": [
    "raw_data = pd.merge(all_data, df_evo.loc[:, :], how='left', on='id')"
   ]
  },
  {
   "cell_type": "code",
   "execution_count": 16,
   "id": "bf5df6c4",
   "metadata": {},
   "outputs": [],
   "source": [
    "col = raw_data.columns.values.tolist()\n",
    "#col.remove('tag')\n",
    "col.remove('UAA')\n",
    "col.remove('label')\n",
    "col.remove('id')"
   ]
  },
  {
   "cell_type": "code",
   "execution_count": 17,
   "id": "426528dd",
   "metadata": {},
   "outputs": [],
   "source": [
    "X = np.array(raw_data[col])\n",
    "y = np.array(raw_data['label'])"
   ]
  },
  {
   "cell_type": "code",
   "execution_count": 18,
   "id": "e1fe447c",
   "metadata": {},
   "outputs": [
    {
     "name": "stdout",
     "output_type": "stream",
     "text": [
      "(342, 280) 0\n"
     ]
    }
   ],
   "source": [
    "print(X.shape, np.sum(y))"
   ]
  },
  {
   "cell_type": "code",
   "execution_count": 19,
   "id": "20fb1169",
   "metadata": {},
   "outputs": [],
   "source": [
    "with open(\"TZ-Y_ssm_evo\"+evo_tag+\".pickle\", 'wb') as f:\n",
    "    pickle.dump([X, y], f)"
   ]
  },
  {
   "cell_type": "code",
   "execution_count": null,
   "id": "75407f04",
   "metadata": {},
   "outputs": [],
   "source": []
  }
 ],
 "metadata": {
  "kernelspec": {
   "display_name": "PyG",
   "language": "python",
   "name": "pyg"
  },
  "language_info": {
   "codemirror_mode": {
    "name": "ipython",
    "version": 3
   },
   "file_extension": ".py",
   "mimetype": "text/x-python",
   "name": "python",
   "nbconvert_exporter": "python",
   "pygments_lexer": "ipython3",
   "version": "3.8.5"
  }
 },
 "nbformat": 4,
 "nbformat_minor": 5
}
